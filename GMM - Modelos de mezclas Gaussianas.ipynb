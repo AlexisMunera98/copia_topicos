{
 "cells": [
  {
   "cell_type": "markdown",
   "metadata": {},
   "source": [
    "# Modelos de mezclas Gaussianas - GMM"
   ]
  },
  {
   "cell_type": "markdown",
   "metadata": {},
   "source": [
    "## Modelos de mezclas\n",
    "\n",
    "Un modelo de mezclas es un tipo de modelo de densidad de probabilidad donde se asume que los datos están gobernado por un número de componentes de distribución. Si estas distribuciones son Gaussianas, entonces el modelo se convierte en un modelo de mezclas Gaussianas. Estos compoentes de distribución se combinan con el fin de proveer una función de densida multimodal, que se convierte finalmente en un modelo de mezlcas.\n",
    "\n",
    "***Ejemplo***\n",
    ">Spongamos que queremos modelar los hábitos de compras de todas las personas en Suramérica. Una forma es modelar todo el continente y ajuntar todo a un solo modelo, sin embargo sabemos que las personas en diferentes países compran de diferentes maneras. Debemos entonces entender cómo compran las personas en cada país individualmente.\n",
    "\n",
    ">En este caso, si queremos obtener un modelo representativo, debemos tener en cuenta todas las variaciones dentro del continente. Sería entonces conveniente utilizar un modelo de mezclas para modelar los hábitos en países individuales y luego combinarlos todos en en un Modelo de Mezclas.\n",
    "\n",
    "Algo interesante que vale la pena resaltar en un modelo de mezclas se que es semiparamétrico, es decir, depende parcialmente de un conjunto de funciones predefinidas. Éstas tienen gran precisión y flexibilidad en el modelamiento de distribuciones subyacentes de los datos. También pueden suavizar las brechas que resultan de tener datos dispersos.\n",
    "\n",
    "Si se define la función, entonces el modelo de mezclas pasa de ser semi-paramétrico a paramétrico. Es por ello que un GMM es un modelo paramétrico representado por una suma ponderada de funciones\n",
    "Guassianas. Se asume entonces que los datos han sido generados por un conjunto de modelos Gaussianos que han sido combinados de alguna manera. Los GMM son bastante potentes y utilizados en una amplia variedad de casos. Los parámetros del GMM se estiman con el conjunto de datos de entrenamiento usando algoritmos de estimación como **Expectation-Maximization (EM)** o **Maximum  A-posteriori (MAP)**. Algunas aplicaciones populares de los GMM incluyen la recuperación de bases de dastos de imágenes, el modelamiento de fluctuaciones de mercado, verificación biométrica, entre otros."
   ]
  },
  {
   "cell_type": "markdown",
   "metadata": {},
   "source": [
    "## Construcción de un clasificador basado en GMM "
   ]
  },
  {
   "cell_type": "code",
   "execution_count": 19,
   "metadata": {},
   "outputs": [
    {
     "name": "stdout",
     "output_type": "stream",
     "text": [
      "3\n"
     ]
    }
   ],
   "source": [
    "import numpy as np \n",
    "import matplotlib.pyplot as plt \n",
    "from matplotlib import patches \n",
    " \n",
    "from sklearn import datasets \n",
    "from sklearn.mixture import GMM \n",
    "from sklearn.cross_validation import StratifiedKFold\n",
    "\n",
    "# Load the iris dataset \n",
    "iris = datasets.load_iris()\n",
    "# Split dataset into training and testing (80/20 split) \n",
    "indices = StratifiedKFold(iris.target, n_folds=5) #el data set se divide en 5 partes\n",
    "# Take the first fold \n",
    "train_index, test_index = next(iter(indices))  #se usa para moverse en un ciclo,por cada next se hace el siguiente elemento\n",
    " \n",
    "# Extract training data and labels \n",
    "X_train = iris.data[train_index] \n",
    "y_train = iris.target[train_index]\n",
    "# Extract testing data and labels \n",
    "X_test = iris.data[test_index] \n",
    "y_test = iris.target[test_index]\n",
    "\n",
    "# Extract the number of classes \n",
    "num_classes = len(np.unique(y_train))\n",
    "print(num_classes)"
   ]
  },
  {
   "cell_type": "code",
   "execution_count": 18,
   "metadata": {},
   "outputs": [
    {
     "name": "stdout",
     "output_type": "stream",
     "text": [
      "[[ 5.0425  3.445   1.4675  0.25  ]\n",
      " [ 5.895   2.745   4.2325  1.3125]\n",
      " [ 6.5925  2.9825  5.4975  2.0225]]\n"
     ]
    },
    {
     "name": "stderr",
     "output_type": "stream",
     "text": [
      "C:\\Users\\LMSEPULVEDA\\AppData\\Local\\Continuum\\Anaconda3\\lib\\site-packages\\sklearn\\utils\\deprecation.py:52: DeprecationWarning: Class GMM is deprecated; The class GMM is deprecated in 0.18 and will be  removed in 0.20. Use class GaussianMixture instead.\n",
      "  warnings.warn(msg, category=DeprecationWarning)\n"
     ]
    }
   ],
   "source": [
    "# Build GMM \n",
    "classifier = GMM(n_components=num_classes, covariance_type='full',  \n",
    "        init_params='wc', n_iter=20) #n_iter : num de iter de EM, wc pesos y covarianzas se actualizan en cada iteración\n",
    "# Initialize the GMM means  \n",
    "classifier.means_ = np.array([X_train[y_train == i].mean(axis=0) \n",
    "                              for i in range(num_classes)])\n",
    "print(classifier.means_)"
   ]
  },
  {
   "cell_type": "code",
   "execution_count": 20,
   "metadata": {},
   "outputs": [
    {
     "name": "stderr",
     "output_type": "stream",
     "text": [
      "C:\\Users\\LMSEPULVEDA\\AppData\\Local\\Continuum\\Anaconda3\\lib\\site-packages\\sklearn\\utils\\deprecation.py:70: DeprecationWarning: Function distribute_covar_matrix_to_match_covariance_type is deprecated; The functon distribute_covar_matrix_to_match_covariance_typeis deprecated in 0.18 and will be removed in 0.20.\n",
      "  warnings.warn(msg, category=DeprecationWarning)\n",
      "C:\\Users\\LMSEPULVEDA\\AppData\\Local\\Continuum\\Anaconda3\\lib\\site-packages\\sklearn\\utils\\deprecation.py:70: DeprecationWarning: Function log_multivariate_normal_density is deprecated; The function log_multivariate_normal_density is deprecated in 0.18 and will be removed in 0.20.\n",
      "  warnings.warn(msg, category=DeprecationWarning)\n",
      "C:\\Users\\LMSEPULVEDA\\AppData\\Local\\Continuum\\Anaconda3\\lib\\site-packages\\sklearn\\utils\\deprecation.py:70: DeprecationWarning: Function log_multivariate_normal_density is deprecated; The function log_multivariate_normal_density is deprecated in 0.18 and will be removed in 0.20.\n",
      "  warnings.warn(msg, category=DeprecationWarning)\n",
      "C:\\Users\\LMSEPULVEDA\\AppData\\Local\\Continuum\\Anaconda3\\lib\\site-packages\\sklearn\\utils\\deprecation.py:70: DeprecationWarning: Function log_multivariate_normal_density is deprecated; The function log_multivariate_normal_density is deprecated in 0.18 and will be removed in 0.20.\n",
      "  warnings.warn(msg, category=DeprecationWarning)\n",
      "C:\\Users\\LMSEPULVEDA\\AppData\\Local\\Continuum\\Anaconda3\\lib\\site-packages\\sklearn\\utils\\deprecation.py:70: DeprecationWarning: Function log_multivariate_normal_density is deprecated; The function log_multivariate_normal_density is deprecated in 0.18 and will be removed in 0.20.\n",
      "  warnings.warn(msg, category=DeprecationWarning)\n",
      "C:\\Users\\LMSEPULVEDA\\AppData\\Local\\Continuum\\Anaconda3\\lib\\site-packages\\sklearn\\utils\\deprecation.py:70: DeprecationWarning: Function log_multivariate_normal_density is deprecated; The function log_multivariate_normal_density is deprecated in 0.18 and will be removed in 0.20.\n",
      "  warnings.warn(msg, category=DeprecationWarning)\n",
      "C:\\Users\\LMSEPULVEDA\\AppData\\Local\\Continuum\\Anaconda3\\lib\\site-packages\\sklearn\\utils\\deprecation.py:70: DeprecationWarning: Function log_multivariate_normal_density is deprecated; The function log_multivariate_normal_density is deprecated in 0.18 and will be removed in 0.20.\n",
      "  warnings.warn(msg, category=DeprecationWarning)\n",
      "C:\\Users\\LMSEPULVEDA\\AppData\\Local\\Continuum\\Anaconda3\\lib\\site-packages\\sklearn\\utils\\deprecation.py:70: DeprecationWarning: Function log_multivariate_normal_density is deprecated; The function log_multivariate_normal_density is deprecated in 0.18 and will be removed in 0.20.\n",
      "  warnings.warn(msg, category=DeprecationWarning)\n",
      "C:\\Users\\LMSEPULVEDA\\AppData\\Local\\Continuum\\Anaconda3\\lib\\site-packages\\sklearn\\utils\\deprecation.py:70: DeprecationWarning: Function log_multivariate_normal_density is deprecated; The function log_multivariate_normal_density is deprecated in 0.18 and will be removed in 0.20.\n",
      "  warnings.warn(msg, category=DeprecationWarning)\n",
      "C:\\Users\\LMSEPULVEDA\\AppData\\Local\\Continuum\\Anaconda3\\lib\\site-packages\\sklearn\\utils\\deprecation.py:70: DeprecationWarning: Function log_multivariate_normal_density is deprecated; The function log_multivariate_normal_density is deprecated in 0.18 and will be removed in 0.20.\n",
      "  warnings.warn(msg, category=DeprecationWarning)\n",
      "C:\\Users\\LMSEPULVEDA\\AppData\\Local\\Continuum\\Anaconda3\\lib\\site-packages\\sklearn\\utils\\deprecation.py:70: DeprecationWarning: Function log_multivariate_normal_density is deprecated; The function log_multivariate_normal_density is deprecated in 0.18 and will be removed in 0.20.\n",
      "  warnings.warn(msg, category=DeprecationWarning)\n",
      "C:\\Users\\LMSEPULVEDA\\AppData\\Local\\Continuum\\Anaconda3\\lib\\site-packages\\sklearn\\utils\\deprecation.py:70: DeprecationWarning: Function log_multivariate_normal_density is deprecated; The function log_multivariate_normal_density is deprecated in 0.18 and will be removed in 0.20.\n",
      "  warnings.warn(msg, category=DeprecationWarning)\n",
      "C:\\Users\\LMSEPULVEDA\\AppData\\Local\\Continuum\\Anaconda3\\lib\\site-packages\\sklearn\\utils\\deprecation.py:70: DeprecationWarning: Function log_multivariate_normal_density is deprecated; The function log_multivariate_normal_density is deprecated in 0.18 and will be removed in 0.20.\n",
      "  warnings.warn(msg, category=DeprecationWarning)\n",
      "C:\\Users\\LMSEPULVEDA\\AppData\\Local\\Continuum\\Anaconda3\\lib\\site-packages\\sklearn\\utils\\deprecation.py:70: DeprecationWarning: Function log_multivariate_normal_density is deprecated; The function log_multivariate_normal_density is deprecated in 0.18 and will be removed in 0.20.\n",
      "  warnings.warn(msg, category=DeprecationWarning)\n"
     ]
    },
    {
     "data": {
      "text/plain": [
       "GMM(covariance_type='full', init_params='wc', min_covar=0.001, n_components=3,\n",
       "  n_init=1, n_iter=20, params='wmc', random_state=None, tol=0.001,\n",
       "  verbose=0)"
      ]
     },
     "execution_count": 20,
     "metadata": {},
     "output_type": "execute_result"
    }
   ],
   "source": [
    "# Train the GMM classifier  \n",
    "classifier.fit(X_train)"
   ]
  },
  {
   "cell_type": "code",
   "execution_count": 28,
   "metadata": {},
   "outputs": [
    {
     "name": "stdout",
     "output_type": "stream",
     "text": [
      "Accuracy on training data = 87.5\n",
      "Accuracy on testing data = 86.6666666667\n"
     ]
    },
    {
     "name": "stderr",
     "output_type": "stream",
     "text": [
      "C:\\Users\\LMSEPULVEDA\\AppData\\Local\\Continuum\\Anaconda3\\lib\\site-packages\\sklearn\\utils\\deprecation.py:70: DeprecationWarning: Function log_multivariate_normal_density is deprecated; The function log_multivariate_normal_density is deprecated in 0.18 and will be removed in 0.20.\n",
      "  warnings.warn(msg, category=DeprecationWarning)\n",
      "C:\\Users\\LMSEPULVEDA\\AppData\\Local\\Continuum\\Anaconda3\\lib\\site-packages\\sklearn\\utils\\deprecation.py:70: DeprecationWarning: Function log_multivariate_normal_density is deprecated; The function log_multivariate_normal_density is deprecated in 0.18 and will be removed in 0.20.\n",
      "  warnings.warn(msg, category=DeprecationWarning)\n"
     ]
    },
    {
     "data": {
      "image/png": "[encoded data removed]",
      "text/plain": [
       "<matplotlib.figure.Figure at 0x73a642b9b0>"
      ]
     },
     "metadata": {},
     "output_type": "display_data"
    }
   ],
   "source": [
    "# Draw boundaries \n",
    "plt.figure() \n",
    "colors = 'bgr'  #colores rgb\n",
    "for i, color in enumerate(colors): \n",
    "    # Extract eigenvalues and eigenvectors \n",
    "    eigenvalues, eigenvectors = np.linalg.eigh( \n",
    "            classifier._get_covars()[i][:2, :2]) #valores y vectores propios de la matriz de covarianzas de 2x2 (2dimensiones)\n",
    "    \n",
    "     # Normalize the first eigenvector \n",
    "    norm_vec = eigenvectors[0] / np.linalg.norm(eigenvectors[0])    \n",
    "    # Extract the angle of tilt \n",
    "    angle = np.arctan2(norm_vec[1], norm_vec[0]) \n",
    "    angle = 180 * angle / np.pi\n",
    "    # Scaling factor to magnify the ellipses \n",
    "    # (random value chosen to suit our needs) \n",
    "    scaling_factor = 8 \n",
    "    eigenvalues *= scaling_factor\n",
    "    # Draw the ellipse \n",
    "    ellipse = patches.Ellipse(classifier.means_[i, :2],  \n",
    "    eigenvalues[0], eigenvalues[1], 180 + angle,  \n",
    "    color=color) \n",
    "    axis_handle = plt.subplot(1, 1, 1) \n",
    "    ellipse.set_clip_box(axis_handle.bbox) \n",
    "    ellipse.set_alpha(0.6)  #transparencia\n",
    "    axis_handle.add_artist(ellipse)\n",
    "\n",
    "# Plot the data  \n",
    "colors = 'bgr' \n",
    "for i, color in enumerate(colors): \n",
    "    cur_data = iris.data[iris.target == i] \n",
    "    plt.scatter(cur_data[:,0], cur_data[:,1], marker='o',  \n",
    "            facecolors='none', edgecolors='black', s=40,  \n",
    "            label=iris.target_names[i])\n",
    "    \n",
    "    test_data = X_test[y_test == i] \n",
    "    plt.scatter(test_data[:,0], test_data[:,1], marker='s',  \n",
    "            facecolors='black', edgecolors='black', s=40,  \n",
    "            label=iris.target_names[i])\n",
    "# Compute predictions for training and testing data \n",
    "y_train_pred = classifier.predict(X_train) \n",
    "accuracy_training = np.mean(y_train_pred.ravel() == y_train.ravel()) * 100\n",
    "print('Accuracy on training data =', accuracy_training) \n",
    " \n",
    "y_test_pred = classifier.predict(X_test) \n",
    "accuracy_testing = np.mean(y_test_pred.ravel() == y_test.ravel()) * 100 \n",
    "print('Accuracy on testing data =', accuracy_testing) \n",
    " \n",
    "plt.title('GMM classifier') \n",
    "plt.xticks(()) \n",
    "plt.yticks(()) \n",
    " \n",
    "plt.show()"
   ]
  },
  {
   "cell_type": "code",
   "execution_count": 31,
   "metadata": {},
   "outputs": [
    {
     "data": {
      "text/plain": [
       "array([[[ 0.12742339,  0.10202453,  0.01487202,  0.00987949],\n",
       "        [ 0.10202453,  0.15383452,  0.00994044,  0.0095081 ],\n",
       "        [ 0.01487202,  0.00994044,  0.03519449,  0.00587672],\n",
       "        [ 0.00987949,  0.0095081 ,  0.00587672,  0.01350119]],\n",
       "\n",
       "       [[ 0.50953863,  0.14762504,  0.589433  ,  0.19190402],\n",
       "        [ 0.14762504,  0.13221438,  0.16166516,  0.06466709],\n",
       "        [ 0.589433  ,  0.16166516,  0.83480265,  0.26159091],\n",
       "        [ 0.19190402,  0.06466709,  0.26159091,  0.09842574]],\n",
       "\n",
       "       [[ 0.22412839,  0.03965446,  0.14379041,  0.07662981],\n",
       "        [ 0.03965446,  0.0561054 ,  0.03449518,  0.02723644],\n",
       "        [ 0.14379041,  0.03449518,  0.15664269,  0.08398089],\n",
       "        [ 0.07662981,  0.02723644,  0.08398089,  0.08027814]]])"
      ]
     },
     "execution_count": 31,
     "metadata": {},
     "output_type": "execute_result"
    }
   ],
   "source": [
    "classifier._get_covars()"
   ]
  },
  {
   "cell_type": "code",
   "execution_count": 14,
   "metadata": {},
   "outputs": [
    {
     "name": "stdout",
     "output_type": "stream",
     "text": [
      "1\n",
      "2\n"
     ]
    }
   ],
   "source": [
    "\n",
    "a= np.array([1,2,3,4])\n",
    "a = iter(a)\n",
    "print(next(a))\n",
    "print(next(a))"
   ]
  }
 ],
 "metadata": {
  "kernelspec": {
   "display_name": "Python 3",
   "language": "python",
   "name": "python3"
  },
  "language_info": {
   "codemirror_mode": {
    "name": "ipython",
    "version": 3
   },
   "file_extension": ".py",
   "mimetype": "text/x-python",
   "name": "python",
   "nbconvert_exporter": "python",
   "pygments_lexer": "ipython3",
   "version": "3.6.1"
  }
 },
 "nbformat": 4,
 "nbformat_minor": 2
}
